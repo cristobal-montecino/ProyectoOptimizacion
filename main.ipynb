{
 "cells": [
  {
   "cell_type": "code",
   "execution_count": 5,
   "metadata": {},
   "outputs": [],
   "source": [
    "import itertools\n",
    "import numpy as np\n",
    "import matplotlib.pyplot as plt\n",
    "\n",
    "%matplotlib widget"
   ]
  },
  {
   "cell_type": "code",
   "execution_count": 6,
   "metadata": {},
   "outputs": [],
   "source": [
    "import src.dev as dev\n",
    "dev.reload_modules()\n",
    "\n",
    "import src.render as render\n",
    "from src.skeletal import Skeletal"
   ]
  },
  {
   "cell_type": "markdown",
   "metadata": {},
   "source": [
    "# Configuramos del gráfico"
   ]
  },
  {
   "cell_type": "code",
   "execution_count": 7,
   "metadata": {},
   "outputs": [],
   "source": [
    "viewport = render.Viewport(width=41.0, height=20.0)\n",
    "render_args = {\n",
    "    'viewport': viewport,\n",
    "    'point_size': 0.2,\n",
    "    'figsize': (10, 5),\n",
    "}"
   ]
  },
  {
   "cell_type": "markdown",
   "metadata": {},
   "source": [
    "# Creamos el esqueleto"
   ]
  },
  {
   "cell_type": "code",
   "execution_count": 16,
   "metadata": {},
   "outputs": [],
   "source": [
    "skeletal = Skeletal()\n",
    "skeletal.lengths = [0.02 for _ in range(1000)]\n",
    "#skeletal.lengths = [1.0, 2.0, 2.0, 1.0]\n",
    "#skeletal.lengths = []\n",
    "skeletal.points = [[0.0, 0.0, 0.0]]\n",
    "skeletal.points.extend([x, 0.0, 0.0] for x in itertools.accumulate(skeletal.lengths))"
   ]
  },
  {
   "cell_type": "code",
   "execution_count": 17,
   "metadata": {},
   "outputs": [
    {
     "data": {
      "application/vnd.jupyter.widget-view+json": {
       "model_id": "6c185e846f54407898779c77a872c937",
       "version_major": 2,
       "version_minor": 0
      },
      "text/plain": [
       "Canvas(toolbar=Toolbar(toolitems=[('Home', 'Reset original view', 'home', 'home'), ('Back', 'Back to previous …"
      ]
     },
     "metadata": {},
     "output_type": "display_data"
    }
   ],
   "source": [
    "# Mostramos el esqueleto\n",
    "skeletal.render(**render_args)"
   ]
  },
  {
   "cell_type": "markdown",
   "metadata": {},
   "source": [
    "# Añadimos el objetivo"
   ]
  },
  {
   "cell_type": "markdown",
   "metadata": {},
   "source": [
    "Puede hacer click en el gráfico para modificar la posición del objetivo"
   ]
  },
  {
   "cell_type": "code",
   "execution_count": 18,
   "metadata": {},
   "outputs": [],
   "source": [
    "# Posición inicial del target. Puede modificarlo haciendo click en el gráfico.\n",
    "target = [-14, 5, 0.0]"
   ]
  },
  {
   "cell_type": "code",
   "execution_count": 19,
   "metadata": {},
   "outputs": [
    {
     "data": {
      "text/plain": [
       "[-14, 5, 0.0]"
      ]
     },
     "execution_count": 19,
     "metadata": {},
     "output_type": "execute_result"
    }
   ],
   "source": [
    "target"
   ]
  },
  {
   "cell_type": "code",
   "execution_count": 20,
   "metadata": {},
   "outputs": [
    {
     "data": {
      "application/vnd.jupyter.widget-view+json": {
       "model_id": "47b6b9ebd9d34bf793a99d40ebd57f19",
       "version_major": 2,
       "version_minor": 0
      },
      "text/plain": [
       "Canvas(toolbar=Toolbar(toolitems=[('Home', 'Reset original view', 'home', 'home'), ('Back', 'Back to previous …"
      ]
     },
     "metadata": {},
     "output_type": "display_data"
    }
   ],
   "source": [
    "def target_on_click(event, args):\n",
    "    global target\n",
    "    target = [float(event.xdata), float(event.ydata), 0.0]\n",
    "    skeletal.render(target=target, **args)\n",
    "    \n",
    "skeletal.render(target=target, on_click=target_on_click, **render_args)"
   ]
  },
  {
   "cell_type": "markdown",
   "metadata": {},
   "source": [
    "# FABRIK"
   ]
  },
  {
   "cell_type": "markdown",
   "metadata": {},
   "source": [
    "Se hace la cinematica inversa utilizando FABRIK."
   ]
  },
  {
   "cell_type": "markdown",
   "metadata": {},
   "source": [
    "Puede hacer click en el grafico para mover el objetivo."
   ]
  },
  {
   "cell_type": "code",
   "execution_count": 24,
   "metadata": {},
   "outputs": [
    {
     "data": {
      "application/vnd.jupyter.widget-view+json": {
       "model_id": "ed3590deb0204daf9202913e8d97e233",
       "version_major": 2,
       "version_minor": 0
      },
      "text/plain": [
       "Canvas(toolbar=Toolbar(toolitems=[('Home', 'Reset original view', 'home', 'home'), ('Back', 'Back to previous …"
      ]
     },
     "metadata": {},
     "output_type": "display_data"
    }
   ],
   "source": [
    "fabrik_sk = skeletal\n",
    "def fabrik_on_click(event, args):\n",
    "    global fabrik_sk\n",
    "    target = [float(event.xdata), float(event.ydata), 0.0]\n",
    "    fabrik_sk = fabrik_sk.fabrik(target)\n",
    "    fabrik_sk.render(target=target, **args)\n",
    "    \n",
    "fabrik_sk = fabrik_sk.fabrik(target)\n",
    "fabrik_sk.render(target=target, on_click=fabrik_on_click, **render_args)"
   ]
  },
  {
   "cell_type": "markdown",
   "metadata": {},
   "source": [
    "# DIREK"
   ]
  },
  {
   "cell_type": "markdown",
   "metadata": {},
   "source": [
    "Puede hacer click en el grafico para mover el objetivo."
   ]
  },
  {
   "cell_type": "code",
   "execution_count": 21,
   "metadata": {},
   "outputs": [],
   "source": [
    "import src.dev as dev\n",
    "dev.reload_modules()"
   ]
  },
  {
   "cell_type": "markdown",
   "metadata": {},
   "source": [
    "## Metodo directo"
   ]
  },
  {
   "cell_type": "code",
   "execution_count": 25,
   "metadata": {},
   "outputs": [
    {
     "data": {
      "application/vnd.jupyter.widget-view+json": {
       "model_id": "98e4056830af459980e033e4ca53cce8",
       "version_major": 2,
       "version_minor": 0
      },
      "text/plain": [
       "Canvas(toolbar=Toolbar(toolitems=[('Home', 'Reset original view', 'home', 'home'), ('Back', 'Back to previous …"
      ]
     },
     "metadata": {},
     "output_type": "display_data"
    }
   ],
   "source": [
    "direk_sk = skeletal\n",
    "def direk_on_click(event, args):\n",
    "    target = [float(event.xdata), float(event.ydata), 0.0]\n",
    "    global direk_sk\n",
    "    direk_sk = direk_sk.direk(target, method=0)\n",
    "    direk_sk.render(target=target, **args)\n",
    "    \n",
    "direk_sk = direk_sk.direk(target, method=0)\n",
    "direk_sk.render(target=target, on_click=direk_on_click, **render_args)"
   ]
  },
  {
   "cell_type": "code",
   "execution_count": null,
   "metadata": {},
   "outputs": [],
   "source": []
  },
  {
   "cell_type": "markdown",
   "metadata": {},
   "source": [
    "## Metodo inverso"
   ]
  },
  {
   "cell_type": "code",
   "execution_count": 23,
   "metadata": {},
   "outputs": [
    {
     "data": {
      "application/vnd.jupyter.widget-view+json": {
       "model_id": "91c929ce1c864811880ebd2dae8cca34",
       "version_major": 2,
       "version_minor": 0
      },
      "text/plain": [
       "Canvas(toolbar=Toolbar(toolitems=[('Home', 'Reset original view', 'home', 'home'), ('Back', 'Back to previous …"
      ]
     },
     "metadata": {},
     "output_type": "display_data"
    }
   ],
   "source": [
    "direk1_sk = skeletal\n",
    "def direk1_on_click(event, args):\n",
    "    target = [float(event.xdata), float(event.ydata), 0.0]\n",
    "    global direk1_sk\n",
    "    direk1_sk = direk1_sk.direk(target, method=1)\n",
    "    direk1_sk.render(target=target, **args)\n",
    "    \n",
    "direk1_sk = direk1_sk.direk(target, method=1)\n",
    "direk1_sk.render(target=target, on_click=direk1_on_click, **render_args)"
   ]
  },
  {
   "cell_type": "markdown",
   "metadata": {},
   "source": [
    "# PINKIND"
   ]
  },
  {
   "cell_type": "code",
   "execution_count": 13,
   "metadata": {},
   "outputs": [
    {
     "data": {
      "application/vnd.jupyter.widget-view+json": {
       "model_id": "5334d2dc0abd46709edc0c0333d67789",
       "version_major": 2,
       "version_minor": 0
      },
      "text/plain": [
       "Canvas(toolbar=Toolbar(toolitems=[('Home', 'Reset original view', 'home', 'home'), ('Back', 'Back to previous …"
      ]
     },
     "metadata": {},
     "output_type": "display_data"
    }
   ],
   "source": [
    "pinkind_sk = skeletal\n",
    "\n",
    "def pinkind_on_click(event, args):\n",
    "    target = [float(event.xdata), float(event.ydata), 0.0]\n",
    "    global pinkind_sk\n",
    "    pinkind_sk = pinkind_sk.pinkind(target)\n",
    "    pinkind_sk.render(target=target, **args)\n",
    "    \n",
    "pinkind_sk = pinkind_sk.pinkind(target)\n",
    "pinkind_sk.render(target=target, on_click=pinkind_on_click, **render_args)"
   ]
  },
  {
   "cell_type": "code",
   "execution_count": 14,
   "metadata": {},
   "outputs": [],
   "source": [
    "def reduce(start, f, l):\n",
    "    accum = start\n",
    "    for x in l:\n",
    "        accum = f(accum, x)\n",
    "    return accum"
   ]
  },
  {
   "cell_type": "code",
   "execution_count": 15,
   "metadata": {},
   "outputs": [],
   "source": [
    "and_reduce = lambda l: reduce(True, lambda a, x: a and x, l)\n",
    "is_restrictions_satisfied = lambda sk: and_reduce([abs(((x[0]-y[0])**2+(x[1]-y[1])**2+(x[2]-y[2])**2)**0.5 - l)<=1.0e-11 for x, y, l in zip(sk.points[:-1], sk.points[1:], sk.lengths)])\n",
    "numeric_errors = lambda sk: sorted((abs(((x[0]-y[0])**2+(x[1]-y[1])**2+(x[2]-y[2])**2)**0.5 - l) for x, y, l in zip(sk.points[:-1], sk.points[1:], sk.lengths)), reverse=True)"
   ]
  },
  {
   "cell_type": "code",
   "execution_count": 16,
   "metadata": {},
   "outputs": [
    {
     "data": {
      "text/plain": [
       "[1.454392162258955e-14,\n",
       " 5.551115123125783e-15,\n",
       " 4.440892098500626e-15,\n",
       " 4.440892098500626e-15,\n",
       " 3.552713678800501e-15,\n",
       " 3.552713678800501e-15,\n",
       " 2.886579864025407e-15,\n",
       " 2.6645352591003757e-15,\n",
       " 2.220446049250313e-15,\n",
       " 1.1102230246251565e-15,\n",
       " 5.551115123125783e-16,\n",
       " 4.440892098500626e-16,\n",
       " 4.440892098500626e-16,\n",
       " 2.220446049250313e-16,\n",
       " 2.220446049250313e-16,\n",
       " 2.220446049250313e-16,\n",
       " 1.1102230246251565e-16,\n",
       " 0.0,\n",
       " 0.0,\n",
       " 0.0]"
      ]
     },
     "execution_count": 16,
     "metadata": {},
     "output_type": "execute_result"
    }
   ],
   "source": [
    "numeric_errors(direk_sk)"
   ]
  }
 ],
 "metadata": {
  "kernelspec": {
   "display_name": "Python 3",
   "language": "python",
   "name": "python3"
  },
  "language_info": {
   "codemirror_mode": {
    "name": "ipython",
    "version": 3
   },
   "file_extension": ".py",
   "mimetype": "text/x-python",
   "name": "python",
   "nbconvert_exporter": "python",
   "pygments_lexer": "ipython3",
   "version": "3.8.5"
  }
 },
 "nbformat": 4,
 "nbformat_minor": 4
}
